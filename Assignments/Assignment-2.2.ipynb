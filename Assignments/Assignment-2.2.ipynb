{
 "cells": [
  {
   "cell_type": "markdown",
   "metadata": {},
   "source": [
    "Take this array to perform your actions upon (input this code) → input_data = np.array([[3, -1.5, 3, -6.4], [0, 3, -1.3, 4.1], [1, 2.3, -2.9, -4.3]])\n",
    "\n",
    "1. Mean removal (so that each feature is centered on zero)\n",
    "2. Scale the data\n",
    "3. Normalize the data\n",
    "4. Binarize the data"
   ]
  },
  {
   "cell_type": "code",
   "execution_count": 19,
   "metadata": {},
   "outputs": [],
   "source": [
    "import numpy as np\n",
    "from sklearn import preprocessing"
   ]
  },
  {
   "cell_type": "code",
   "execution_count": 15,
   "metadata": {},
   "outputs": [],
   "source": [
    "sns.set_style('darkgrid')"
   ]
  },
  {
   "cell_type": "code",
   "execution_count": 2,
   "metadata": {},
   "outputs": [],
   "source": [
    "input_data = np.array([[3, -1.5, 3, -6.4], [0, 3, -1.3, 4.1], [1, 2.3, -2.9, -4.3]])"
   ]
  },
  {
   "cell_type": "code",
   "execution_count": 3,
   "metadata": {},
   "outputs": [
    {
     "data": {
      "text/plain": [
       "array([[ 3. , -1.5,  3. , -6.4],\n",
       "       [ 0. ,  3. , -1.3,  4.1],\n",
       "       [ 1. ,  2.3, -2.9, -4.3]])"
      ]
     },
     "execution_count": 3,
     "metadata": {},
     "output_type": "execute_result"
    }
   ],
   "source": [
    "input_data"
   ]
  },
  {
   "cell_type": "markdown",
   "metadata": {},
   "source": [
    "## 1. Mean Removal"
   ]
  },
  {
   "cell_type": "code",
   "execution_count": 7,
   "metadata": {},
   "outputs": [
    {
     "name": "stdout",
     "output_type": "stream",
     "text": [
      "Mean:  [ 1.33333333  1.26666667 -0.4        -2.2       ]\n",
      "Standard Deviation:  [1.24721913 1.97709102 2.49131826 4.53651849]\n"
     ]
    }
   ],
   "source": [
    "print(\"Mean: \", input_data.mean(axis=0))\n",
    "print(\"Standard Deviation: \", input_data.std(axis=0))"
   ]
  },
  {
   "cell_type": "code",
   "execution_count": 20,
   "metadata": {},
   "outputs": [
    {
     "name": "stdout",
     "output_type": "stream",
     "text": [
      "Mean and Satndard Deviation After Mean Removal\n",
      " **************************************************\n",
      "Mean:  [ 5.55111512e-17 -3.70074342e-17  0.00000000e+00 -1.85037171e-17]\n",
      "Standard Deviation:  [1. 1. 1. 1.]\n"
     ]
    }
   ],
   "source": [
    "input_data_standarized = preprocessing.scale(input_data)\n",
    "print(\"Mean and Satndard Deviation After Mean Removal\\n\", \"*\" * 50)\n",
    "print(\"Mean: \", input_data_standarized.mean(axis=0))\n",
    "print(\"Standard Deviation: \", input_data_standarized.std(axis=0))"
   ]
  },
  {
   "cell_type": "markdown",
   "metadata": {},
   "source": [
    "As we can see that mean is nearly zero for each feature and stadard deviation is 1"
   ]
  },
  {
   "cell_type": "markdown",
   "metadata": {},
   "source": [
    "## 2. Scaling"
   ]
  },
  {
   "cell_type": "markdown",
   "metadata": {},
   "source": [
    "We will scale the data in the range of 0 and 1"
   ]
  },
  {
   "cell_type": "code",
   "execution_count": 24,
   "metadata": {},
   "outputs": [
    {
     "name": "stdout",
     "output_type": "stream",
     "text": [
      "Scaled Data\n",
      " [[1.         0.         1.         0.        ]\n",
      " [0.         1.         0.27118644 1.        ]\n",
      " [0.33333333 0.84444444 0.         0.2       ]]\n"
     ]
    }
   ],
   "source": [
    "data_scaler = preprocessing.MinMaxScaler(feature_range=(0,1))\n",
    "input_data_scaled = data_scaler.fit_transform(input_data)\n",
    "print(\"Scaled Data\\n\", input_data_scaled)"
   ]
  },
  {
   "cell_type": "markdown",
   "metadata": {},
   "source": [
    "## 3. Normalization"
   ]
  },
  {
   "cell_type": "code",
   "execution_count": 25,
   "metadata": {},
   "outputs": [
    {
     "name": "stdout",
     "output_type": "stream",
     "text": [
      "Normalized Data:\n",
      " [[ 0.75       -0.22058824  0.41666667 -0.43243243]\n",
      " [ 0.          0.44117647 -0.18055556  0.27702703]\n",
      " [ 0.25        0.33823529 -0.40277778 -0.29054054]]\n"
     ]
    }
   ],
   "source": [
    "input_data_normalized = preprocessing.normalize(input_data, norm='l1', axis=0)\n",
    "print(\"Normalized Data:\\n\", input_data_normalized)"
   ]
  },
  {
   "cell_type": "markdown",
   "metadata": {},
   "source": [
    "# 4. Binarization"
   ]
  },
  {
   "cell_type": "markdown",
   "metadata": {},
   "source": [
    "In binarization we need to set a threshold. Values greater that threshold maps to 1, while values less than or equal to the threshold maps to  zero. Here we are setting threshold as 1.5"
   ]
  },
  {
   "cell_type": "code",
   "execution_count": 26,
   "metadata": {},
   "outputs": [
    {
     "name": "stdout",
     "output_type": "stream",
     "text": [
      "Binarized Data:\n",
      " [[1. 0. 1. 0.]\n",
      " [0. 1. 0. 1.]\n",
      " [0. 1. 0. 0.]]\n"
     ]
    }
   ],
   "source": [
    "input_data_binarized = preprocessing.Binarizer(threshold=1.5).transform(input_data)\n",
    "print(\"Binarized Data:\\n\", input_data_binarized)"
   ]
  },
  {
   "cell_type": "code",
   "execution_count": null,
   "metadata": {},
   "outputs": [],
   "source": []
  }
 ],
 "metadata": {
  "kernelspec": {
   "display_name": "Python 3",
   "language": "python",
   "name": "python3"
  },
  "language_info": {
   "codemirror_mode": {
    "name": "ipython",
    "version": 3
   },
   "file_extension": ".py",
   "mimetype": "text/x-python",
   "name": "python",
   "nbconvert_exporter": "python",
   "pygments_lexer": "ipython3",
   "version": "3.7.4"
  }
 },
 "nbformat": 4,
 "nbformat_minor": 2
}
