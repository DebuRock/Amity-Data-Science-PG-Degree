{
 "cells": [
  {
   "cell_type": "markdown",
   "metadata": {},
   "source": [
    "Questions \n",
    "\n",
    "1. Make list of numbers '(5,10,15,20,25,30)' and save it as 'listone'.\n",
    "2. Print length of the list .\n",
    "3. Print Maximum-Minimum number.\n",
    "4. Print the SUM of ‘listone’.\n",
    "5. Remove number 15 from ‘listone’"
   ]
  },
  {
   "cell_type": "code",
   "execution_count": 2,
   "metadata": {},
   "outputs": [],
   "source": [
    "## Make list of numbers '(5,10,15,20,25,30)' and save it as 'listone'.\n",
    "listone = [5,10,15,20,25,30]"
   ]
  },
  {
   "cell_type": "code",
   "execution_count": 3,
   "metadata": {},
   "outputs": [
    {
     "name": "stdout",
     "output_type": "stream",
     "text": [
      "6\n"
     ]
    }
   ],
   "source": [
    "# Length of string\n",
    "print(len(listone))"
   ]
  },
  {
   "cell_type": "code",
   "execution_count": 4,
   "metadata": {},
   "outputs": [
    {
     "name": "stdout",
     "output_type": "stream",
     "text": [
      "Maximum Number: 30\n",
      "Minimum Number: 5\n"
     ]
    }
   ],
   "source": [
    "# Print Maximum-Minimum number.\n",
    "print(\"Maximum Number: {}\".format(max(listone)))\n",
    "print(\"Minimum Number: {}\".format(min(listone)))"
   ]
  },
  {
   "cell_type": "code",
   "execution_count": null,
   "metadata": {},
   "outputs": [],
   "source": [
    "# Print the SUM of ‘listone’\n",
    "print(\"Sum of listone: {}\".format(sum(listone)))"
   ]
  },
  {
   "cell_type": "code",
   "execution_count": 6,
   "metadata": {},
   "outputs": [
    {
     "name": "stdout",
     "output_type": "stream",
     "text": [
      "[5, 10, 20, 25, 30]\n"
     ]
    }
   ],
   "source": [
    "# Remove number 15 from ‘listone’\n",
    "listone.remove(15)\n",
    "print(listone)"
   ]
  },
  {
   "cell_type": "code",
   "execution_count": null,
   "metadata": {},
   "outputs": [],
   "source": []
  }
 ],
 "metadata": {
  "kernelspec": {
   "display_name": "Python 3",
   "language": "python",
   "name": "python3"
  },
  "language_info": {
   "codemirror_mode": {
    "name": "ipython",
    "version": 3
   },
   "file_extension": ".py",
   "mimetype": "text/x-python",
   "name": "python",
   "nbconvert_exporter": "python",
   "pygments_lexer": "ipython3",
   "version": "3.7.4"
  }
 },
 "nbformat": 4,
 "nbformat_minor": 2
}
